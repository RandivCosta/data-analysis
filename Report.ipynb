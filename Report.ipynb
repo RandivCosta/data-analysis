{
  "nbformat": 4,
  "nbformat_minor": 0,
  "metadata": {
    "colab": {
      "provenance": [],
      "authorship_tag": "ABX9TyPseJobWTmF86G5+Jx++RfD",
      "include_colab_link": true
    },
    "kernelspec": {
      "name": "python3",
      "display_name": "Python 3"
    },
    "language_info": {
      "name": "python"
    }
  },
  "cells": [
    {
      "cell_type": "markdown",
      "metadata": {
        "id": "view-in-github",
        "colab_type": "text"
      },
      "source": [
        "<a href=\"https://colab.research.google.com/github/RandivCosta/data-analysis/blob/main/Report.ipynb\" target=\"_parent\"><img src=\"https://colab.research.google.com/assets/colab-badge.svg\" alt=\"Open In Colab\"/></a>"
      ]
    },
    {
      "cell_type": "markdown",
      "source": [
        "#Analysis Report"
      ],
      "metadata": {
        "id": "kVoZKS-1TuPL"
      }
    },
    {
      "cell_type": "code",
      "source": [
        "import pandas as pd\n",
        "import numpy as np\n",
        "import seaborn as sns\n",
        "import matplotlib.pyplot as plt\n",
        "from scipy import stats\n",
        "from statsmodels.stats.multicomp import pairwise_tukeyhsd\n",
        "from io import StringIO\n",
        "import sys"
      ],
      "metadata": {
        "id": "s1D10ipNTyyT"
      },
      "execution_count": null,
      "outputs": []
    },
    {
      "cell_type": "code",
      "source": [
        "data = pd.read_csv('adjusted_data.csv')"
      ],
      "metadata": {
        "id": "nQzwX3YOT1jz"
      },
      "execution_count": null,
      "outputs": []
    },
    {
      "cell_type": "code",
      "source": [
        "def capture_print(func):\n",
        "    def wrapper(*args, **kwargs):\n",
        "        old_stdout = sys.stdout\n",
        "        new_stdout = StringIO()\n",
        "        sys.stdout = new_stdout\n",
        "        func(*args, **kwargs)\n",
        "        output = new_stdout.getvalue()\n",
        "        sys.stdout = old_stdout\n",
        "        return output\n",
        "    return wrapper"
      ],
      "metadata": {
        "id": "9WzwFQHAZDvQ"
      },
      "execution_count": null,
      "outputs": []
    },
    {
      "cell_type": "code",
      "source": [
        "def generate_analysis_report(df):\n",
        "    report = []\n",
        "\n",
        "    # dataset Overview\n",
        "    report.append(\"=\"*80)\n",
        "    report.append(\"BEACH WATER QUALITY DATASET ANALYSIS REPORT\")\n",
        "    report.append(\"=\"*80)\n",
        "    report.append(\"\\n1. DATASET OVERVIEW\")\n",
        "    report.append(f\"- Number of observations: {len(df)}\")\n",
        "    report.append(f\"- Number of sites: {df['Site'].nunique()} ({', '.join(df['Site'].unique())})\")\n",
        "    report.append(f\"- Number of weeks: {df['Week'].nunique()}\")\n",
        "    report.append(f\"- Sample types: {', '.join(df['Area'].unique())}\")\n",
        "\n",
        "    # variable Types\n",
        "    report.append(\"\\n2. VARIABLE TYPES\")\n",
        "    report.append(\"- Categorical Variables:\")\n",
        "    report.append(\"  * Week (ordinal) - Week 1 to Week 10\")\n",
        "    report.append(\"  * Site (nominal) - Different sampling locations\")\n",
        "    report.append(\"  * Area (nominal) - Sea Water vs Sand\")\n",
        "    report.append(\"\\n- Continuous Numerical Variables:\")\n",
        "    report.append(\"  * Bacterial counts (CFU/100ml): Enterococcus, Fecal Coliform, E.coli\")\n",
        "    report.append(\"  * Physical parameters: pH, Conductivity, Salinity, Temperature\")\n",
        "    report.append(\"  * Environmental parameters: Rainfall, Wind Speed\")\n",
        "\n",
        "    # normality Assessment\n",
        "    report.append(\"\\n3. NORMALITY ASSESSMENT\")\n",
        "    bacterial_vars = ['BC-Enterococcus (CFU/100ml)', 'BC-Fecal Coliform(CFU/100ml)', 'BC-E-Coli (CFU/100ml)']\n",
        "\n",
        "    for var in bacterial_vars:\n",
        "        stat, p = stats.shapiro(df[var])\n",
        "        report.append(f\"- {var}: Shapiro-Wilk p-value = {p:.4f} {'(Normal)' if p > 0.05 else '(Non-normal)'}\")\n",
        "\n",
        "    report.append(\"\\nCONCLUSION: Bacterial counts are typically non-normally distributed, suggesting non-parametric tests are more appropriate.\")\n",
        "\n",
        "    # recommended Statistical Tests\n",
        "    report.append(\"\\n4. RECOMMENDED STATISTICAL TESTS\")\n",
        "\n",
        "    report.append(\"\\nA. COMPARING SEA WATER VS SAND SAMPLES\")\n",
        "    report.append(\"- Test: Wilcoxon signed-rank test (non-parametric paired test)\")\n",
        "    report.append(\"- Why: Compares paired measurements (same site/week) without normality assumption\")\n",
        "    report.append(\"- Use case: Are bacterial levels significantly different between sea water and sand?\")\n",
        "\n",
        "    # example test output\n",
        "    sea_water = df[df['Area'] == 'Sea Water'][bacterial_vars[0]]\n",
        "    sand = df[df['Area'] == 'Sand'][bacterial_vars[0]]\n",
        "    stat, p = stats.wilcoxon(sea_water, sand)\n",
        "    report.append(f\"\\n  Example for {bacterial_vars[0]}: W = {stat:.1f}, p = {p:.4f}\")\n",
        "\n",
        "    report.append(\"\\nB. COMPARING ACROSS SITES\")\n",
        "    report.append(\"- Test: Kruskal-Wallis test (non-parametric ANOVA alternative)\")\n",
        "    report.append(\"- Why: Compares >2 independent groups without normality assumption\")\n",
        "    report.append(\"- Use case: Do bacterial levels differ between the three sites?\")\n",
        "\n",
        "    # example test output\n",
        "    sites_data = [df[df['Site'] == site][bacterial_vars[0]] for site in df['Site'].unique()]\n",
        "    stat, p = stats.kruskal(*sites_data)\n",
        "    report.append(f\"\\n  Example for {bacterial_vars[0]}: H = {stat:.1f}, p = {p:.4f}\")\n",
        "\n",
        "    report.append(\"\\nC. TEMPORAL TRENDS (ACROSS WEEKS)\")\n",
        "    report.append(\"- Test: Spearman's rank correlation (non-parametric)\")\n",
        "    report.append(\"- Why: Assesses monotonic relationships without linearity/normality assumptions\")\n",
        "    report.append(\"- Use case: Is there a trend in bacterial levels over the 10-week period?\")\n",
        "\n",
        "    # example test output\n",
        "    df['Week_num'] = df['Week'].str.extract('(\\d+)').astype(int)\n",
        "    corr, p = stats.spearmanr(df['Week_num'], df[bacterial_vars[0]])\n",
        "    report.append(f\"\\n  Example for {bacterial_vars[0]}: rho = {corr:.2f}, p = {p:.4f}\")\n",
        "\n",
        "    report.append(\"\\nD. RELATIONSHIP WITH ENVIRONMENTAL FACTORS\")\n",
        "    report.append(\"- Test: Spearman's rank correlation (non-parametric)\")\n",
        "    report.append(\"- Why: Examines relationships between bacterial counts and continuous environmental variables\")\n",
        "    report.append(\"- Use case: Are higher bacterial counts associated with higher rainfall or temperature?\")\n",
        "\n",
        "    # example test output\n",
        "    corr, p = stats.spearmanr(df['EP-Rainfall'], df[bacterial_vars[0]])\n",
        "    report.append(f\"\\n  Example between {bacterial_vars[0]} and Rainfall: rho = {corr:.2f}, p = {p:.4f}\")\n",
        "\n",
        "    report.append(\"\\nE. COMPARING BACTERIAL SPECIES\")\n",
        "    report.append(\"- Test: Friedman test (non-parametric repeated measures ANOVA)\")\n",
        "    report.append(\"- Why: Compares multiple related samples (same physical samples tested for different bacteria)\")\n",
        "    report.append(\"- Use case: Do the three bacterial types show different concentration patterns?\")\n",
        "\n",
        "    # example test output (using first n complete cases)\n",
        "    n = min(len(df), 30)  # Friedman requires balanced data\n",
        "    stat, p = stats.friedmanchisquare(\n",
        "        df[bacterial_vars[0]][:n],\n",
        "        df[bacterial_vars[1]][:n],\n",
        "        df[bacterial_vars[2]][:n]\n",
        "    )\n",
        "    report.append(f\"\\n  Example: Chi-square = {stat:.1f}, p = {p:.4f}\")\n",
        "\n",
        "    # visualization Examples\n",
        "    report.append(\"\\n5. VISUALIZATION EXAMPLES\")\n",
        "    report.append(\"- Boxplots recommended for group comparisons\")\n",
        "    report.append(\"- Scatter plots with trend lines for correlations\")\n",
        "    report.append(\"- Time series plots for temporal patterns\")\n",
        "\n",
        "    return \"\\n\".join(report)"
      ],
      "metadata": {
        "id": "ie8ko2Z8ZHcX"
      },
      "execution_count": null,
      "outputs": []
    },
    {
      "cell_type": "code",
      "source": [
        "report = generate_analysis_report(data)\n",
        "print(report)"
      ],
      "metadata": {
        "colab": {
          "base_uri": "https://localhost:8080/"
        },
        "id": "g58ZjrvmZn6f",
        "outputId": "e34354d3-8f40-46ec-e185-761cd1ac9cf4"
      },
      "execution_count": null,
      "outputs": [
        {
          "output_type": "stream",
          "name": "stdout",
          "text": [
            "================================================================================\n",
            "BEACH WATER QUALITY DATASET ANALYSIS REPORT\n",
            "================================================================================\n",
            "\n",
            "1. DATASET OVERVIEW\n",
            "- Number of observations: 60\n",
            "- Number of sites: 3 (Site 1, Site 2, Site 3)\n",
            "- Number of weeks: 10\n",
            "- Sample types: Sea Water, Sand\n",
            "\n",
            "2. VARIABLE TYPES\n",
            "- Categorical Variables:\n",
            "  * Week (ordinal) - Week 1 to Week 10\n",
            "  * Site (nominal) - Different sampling locations\n",
            "  * Area (nominal) - Sea Water vs Sand\n",
            "\n",
            "- Continuous Numerical Variables:\n",
            "  * Bacterial counts (CFU/100ml): Enterococcus, Fecal Coliform, E.coli\n",
            "  * Physical parameters: pH, Conductivity, Salinity, Temperature\n",
            "  * Environmental parameters: Rainfall, Wind Speed\n",
            "\n",
            "3. NORMALITY ASSESSMENT\n",
            "- BC-Enterococcus (CFU/100ml): Shapiro-Wilk p-value = 0.0076 (Non-normal)\n",
            "- BC-Fecal Coliform(CFU/100ml): Shapiro-Wilk p-value = 0.0033 (Non-normal)\n",
            "- BC-E-Coli (CFU/100ml): Shapiro-Wilk p-value = 0.0037 (Non-normal)\n",
            "\n",
            "CONCLUSION: Bacterial counts are typically non-normally distributed, suggesting non-parametric tests are more appropriate.\n",
            "\n",
            "4. RECOMMENDED STATISTICAL TESTS\n",
            "\n",
            "A. COMPARING SEA WATER VS SAND SAMPLES\n",
            "- Test: Wilcoxon signed-rank test (non-parametric paired test)\n",
            "- Why: Compares paired measurements (same site/week) without normality assumption\n",
            "- Use case: Are bacterial levels significantly different between sea water and sand?\n",
            "\n",
            "  Example for BC-Enterococcus (CFU/100ml): W = 0.0, p = 0.0000\n",
            "\n",
            "B. COMPARING ACROSS SITES\n",
            "- Test: Kruskal-Wallis test (non-parametric ANOVA alternative)\n",
            "- Why: Compares >2 independent groups without normality assumption\n",
            "- Use case: Do bacterial levels differ between the three sites?\n",
            "\n",
            "  Example for BC-Enterococcus (CFU/100ml): H = 4.1, p = 0.1298\n",
            "\n",
            "C. TEMPORAL TRENDS (ACROSS WEEKS)\n",
            "- Test: Spearman's rank correlation (non-parametric)\n",
            "- Why: Assesses monotonic relationships without linearity/normality assumptions\n",
            "- Use case: Is there a trend in bacterial levels over the 10-week period?\n",
            "\n",
            "  Example for BC-Enterococcus (CFU/100ml): rho = 0.00, p = 0.9970\n",
            "\n",
            "D. RELATIONSHIP WITH ENVIRONMENTAL FACTORS\n",
            "- Test: Spearman's rank correlation (non-parametric)\n",
            "- Why: Examines relationships between bacterial counts and continuous environmental variables\n",
            "- Use case: Are higher bacterial counts associated with higher rainfall or temperature?\n",
            "\n",
            "  Example between BC-Enterococcus (CFU/100ml) and Rainfall: rho = 0.48, p = 0.0001\n",
            "\n",
            "E. COMPARING BACTERIAL SPECIES\n",
            "- Test: Friedman test (non-parametric repeated measures ANOVA)\n",
            "- Why: Compares multiple related samples (same physical samples tested for different bacteria)\n",
            "- Use case: Do the three bacterial types show different concentration patterns?\n",
            "\n",
            "  Example: Chi-square = 59.5, p = 0.0000\n",
            "\n",
            "5. VISUALIZATION EXAMPLES\n",
            "- Boxplots recommended for group comparisons\n",
            "- Scatter plots with trend lines for correlations\n",
            "- Time series plots for temporal patterns\n"
          ]
        }
      ]
    }
  ]
}